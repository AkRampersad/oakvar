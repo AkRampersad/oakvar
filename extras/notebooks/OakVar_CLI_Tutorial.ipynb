{
 "cells": [
  {
   "cell_type": "code",
   "execution_count": 1,
   "id": "c1908fc4-328c-4ba8-a472-27cd6b1a0df1",
   "metadata": {},
   "outputs": [],
   "source": [
    "import oakvar as ov"
   ]
  },
  {
   "cell_type": "code",
   "execution_count": 1,
   "id": "2ed6d4bb-184f-4101-9431-2dfca4fc0758",
   "metadata": {},
   "outputs": [],
   "source": [
    "!ov new exampleinput"
   ]
  },
  {
   "cell_type": "code",
   "execution_count": 2,
   "id": "b77cb6b1-3f1d-434a-8cc2-0d3c7abb9491",
   "metadata": {
    "collapsed": true,
    "jupyter": {
     "outputs_hidden": true
    },
    "tags": []
   },
   "outputs": [
    {
     "name": "stdout",
     "output_type": "stream",
     "text": [
      "2023/01/30 15:18:55 oakvar               /home/rick/mambaforge/envs/ov/bin/ov run exampleinput -a clinvar -t vcf\n",
      "2023/01/30 15:18:55 oakvar               started: Mon Jan 30 15:18:55 2023\n",
      "2023/01/30 15:18:55 oakvar               conf file: None\n",
      "2023/01/30 15:18:55 oakvar               started OakVar\n",
      "2023/01/30 15:18:55 oakvar               input file: /mnt/d/Git/oakvar/extras/notebooks/exampleinput\n",
      "2023/01/30 15:18:55 oakvar               system: oakvar==2.7.35 /mnt/d/Git/oakvar/oakvar\n",
      "2023/01/30 15:18:55 oakvar               module: clinvar==2022.06.14.1 /mnt/e/oakvar/annotators/clinvar/clinvar.py\n",
      "2023/01/30 15:18:55 oakvar               module: gencode==41.3.0 /mnt/e/oakvar/mappers/gencode/gencode.py\n",
      "2023/01/30 15:18:55 oakvar               module: vcfreporter==4.3.0 /mnt/e/oakvar/reporters/vcfreporter/vcfreporter.py\n",
      "2023/01/30 15:18:55 oakvar               starting converter step...\n",
      "2023/01/30 15:18:55 oakvar               running converter\n",
      "2023/01/30 15:18:55 oakvar               master_converter. path=/mnt/d/Git/oakvar/oakvar/lib/base/master_converter.py\n",
      "2023/01/30 15:18:55 oakvar               master_converter. inputs=['/mnt/d/Git/oakvar/extras/notebooks/exampleinput']\n",
      "2023/01/30 15:18:55 oakvar               master_converter. name=exampleinput\n",
      "2023/01/30 15:18:55 oakvar               master_converter. output_dir=/mnt/d/Git/oakvar/extras/notebooks\n",
      "2023/01/30 15:18:55 oakvar               master_converter. input_encoding=None\n",
      "2023/01/30 15:18:55 oakvar               master_converter. conf={}\n",
      "2023/01/30 15:18:56 oakvar.converter     started converter\n",
      "2023/01/30 15:18:56 oakvar.converter     detecting encoding of /mnt/d/Git/oakvar/extras/notebooks/exampleinput\n",
      "2023/01/30 15:18:56 oakvar.converter     encoding: /mnt/d/Git/oakvar/extras/notebooks/exampleinput utf-8\n",
      "2023/01/30 15:18:56 oakvar.converter     using cravat for /mnt/d/Git/oakvar/extras/notebooks/exampleinput\n",
      "2023/01/30 15:18:56 oakvar.converter     module: cravat-converter==1.1.2 /mnt/e/oakvar/converters/cravat-converter/cravat-converter.py\n",
      "2023/01/30 15:18:56 oakvar.converter     input file: /mnt/d/Git/oakvar/extras/notebooks/exampleinput\n",
      "2023/01/30 15:18:56 oakvar.converter     input format: cravat\n",
      "2023/01/30 15:18:56 oakvar.converter     genome_assembly: hg38\n",
      "2023/01/30 15:18:56 oakvar.converter     liftover needed: False\n",
      "2023/01/30 15:18:56 oakvar.converter     liftover for chrM needed: False\n",
      "2023/01/30 15:18:56 oakvar.converter     number of valid variants: 373\n",
      "2023/01/30 15:18:56 oakvar.converter     number of error lines: 0\n",
      "2023/01/30 15:18:56 oakvar.converter     total number of converted variants: 373\n",
      "2023/01/30 15:18:56 oakvar.converter     number of total error lines: 0\n",
      "2023/01/30 15:18:56 oakvar.converter     finished: Mon Jan 30 15:18:56 2023\n",
      "2023/01/30 15:18:56 oakvar.converter     runtime: 0.021\n",
      "2023/01/30 15:18:56 oakvar.converter     finished Converter\n",
      "2023/01/30 15:18:56 oakvar               converter step finished in 0.000s\n",
      "2023/01/30 15:18:56 oakvar               starting preparer step...\n",
      "2023/01/30 15:18:56 oakvar               preparer step finished in 0.000s\n",
      "2023/01/30 15:18:56 oakvar               starting mapper step...\n",
      "2023/01/30 15:18:56 oakvar               num_workers: 1\n",
      "2023/01/30 15:18:56 oakvar               input line chunksize=373 total number of input lines=382 number of chunks=1\n",
      "2023/01/30 15:18:56 oakvar.mapper        input file: /mnt/d/Git/oakvar/extras/notebooks/exampleinput.crv\n",
      "2023/01/30 15:18:58 oakvar.mapper        started: Mon Jan 30 15:18:58 2023 | 0\n",
      "2023/01/30 15:18:58 oakvar.mapper        started GENCODE Mapper (gencode)\n",
      "2023/01/30 15:18:58 oakvar.mapper        finished: Mon Jan 30 15:18:58 2023 | 0\n",
      "2023/01/30 15:18:58 oakvar.mapper        runtime:  0.160\n",
      "2023/01/30 15:18:58 oakvar               mapper step finished in 0.000s\n",
      "2023/01/30 15:18:58 oakvar               starting annotator step...\n",
      "2023/01/30 15:18:58 oakvar               num_workers: 1\n",
      "2023/01/30 15:18:58 oakvar.clinvar       started ClinVar (clinvar)\n",
      "2023/01/30 15:18:58 oakvar.clinvar       started: Mon Jan 30 15:18:58 2023\n",
      "2023/01/30 15:18:58 oakvar.clinvar       started ClinVar (clinvar)\n",
      "2023/01/30 15:18:58 oakvar.clinvar       clinvar: finished at Mon Jan 30 15:18:58 2023\n",
      "2023/01/30 15:18:58 oakvar.clinvar       clinvar: runtime 0.065s\n",
      "2023/01/30 15:18:59 oakvar               annotator step finished in 0.000s\n",
      "2023/01/30 15:18:59 oakvar               starting aggregator step...\n",
      "2023/01/30 15:18:59 oakvar               running Aggregator (variant)\n",
      "2023/01/30 15:18:59 oakvar.aggregator    level: variant\n",
      "2023/01/30 15:18:59 oakvar.aggregator    input directory: /mnt/d/Git/oakvar/extras/notebooks\n",
      "2023/01/30 15:19:00 oakvar.aggregator    started aggregator (variant)\n",
      "2023/01/30 15:19:00 oakvar.aggregator    started: Mon Jan 30 15:19:00 2023\n",
      "2023/01/30 15:19:00 oakvar.aggregator    finished: Mon Jan 30 15:19:00 2023\n",
      "2023/01/30 15:19:00 oakvar.aggregator    runtime: 0.192\n",
      "2023/01/30 15:19:00 oakvar.aggregator    finished aggregator (variant)\n",
      "2023/01/30 15:19:00 oakvar               Aggregator variant finished in 0.000s\n",
      "2023/01/30 15:19:00 oakvar               running Aggregator (gene)\n",
      "2023/01/30 15:19:00 oakvar.aggregator    level: gene\n",
      "2023/01/30 15:19:00 oakvar.aggregator    input directory: /mnt/d/Git/oakvar/extras/notebooks\n",
      "2023/01/30 15:19:00 oakvar.aggregator    started aggregator (gene)\n",
      "2023/01/30 15:19:00 oakvar.aggregator    started: Mon Jan 30 15:19:00 2023\n",
      "2023/01/30 15:19:01 oakvar.aggregator    finished: Mon Jan 30 15:19:01 2023\n",
      "2023/01/30 15:19:01 oakvar.aggregator    runtime: 0.202\n",
      "2023/01/30 15:19:01 oakvar.aggregator    finished aggregator (gene)\n",
      "2023/01/30 15:19:01 oakvar               Aggregator gene finished in 0.000s\n",
      "2023/01/30 15:19:01 oakvar               running Aggregator (sample)\n",
      "2023/01/30 15:19:01 oakvar.aggregator    level: sample\n",
      "2023/01/30 15:19:01 oakvar.aggregator    input directory: /mnt/d/Git/oakvar/extras/notebooks\n",
      "2023/01/30 15:19:01 oakvar.aggregator    started aggregator (sample)\n",
      "2023/01/30 15:19:01 oakvar.aggregator    started: Mon Jan 30 15:19:01 2023\n",
      "2023/01/30 15:19:01 oakvar.aggregator    finished: Mon Jan 30 15:19:01 2023\n",
      "2023/01/30 15:19:01 oakvar.aggregator    runtime: 0.202\n",
      "2023/01/30 15:19:02 oakvar.aggregator    finished aggregator (sample)\n",
      "2023/01/30 15:19:02 oakvar               Aggregator sample finished in 0.000s\n",
      "2023/01/30 15:19:02 oakvar               running Aggregator (mapping)\n",
      "2023/01/30 15:19:02 oakvar.aggregator    level: mapping\n",
      "2023/01/30 15:19:02 oakvar.aggregator    input directory: /mnt/d/Git/oakvar/extras/notebooks\n",
      "2023/01/30 15:19:02 oakvar.aggregator    started aggregator (mapping)\n",
      "2023/01/30 15:19:02 oakvar.aggregator    started: Mon Jan 30 15:19:02 2023\n",
      "2023/01/30 15:19:02 oakvar.aggregator    finished: Mon Jan 30 15:19:02 2023\n",
      "2023/01/30 15:19:02 oakvar.aggregator    runtime: 0.18\n",
      "2023/01/30 15:19:02 oakvar.aggregator    finished aggregator (mapping)\n",
      "2023/01/30 15:19:02 oakvar               Aggregator mapping finished in 0.000s\n",
      "2023/01/30 15:19:02 oakvar               aggregator step finished in 0.000s\n",
      "2023/01/30 15:19:03 oakvar               starting postaggregator step...\n",
      "2023/01/30 15:19:03 oakvar.tagsampler    started Samples and Tags (tagsampler)\n",
      "2023/01/30 15:19:03 oakvar.tagsampler    started: Mon Jan 30 15:19:03 2023\n",
      "2023/01/30 15:19:04 oakvar.tagsampler    finished: Mon Jan 30 15:19:04 2023\n",
      "2023/01/30 15:19:04 oakvar.tagsampler    runtime: 0.639\n",
      "2023/01/30 15:19:04 oakvar.tagsampler    Finished Samples and Tags (tagsampler)\n",
      "2023/01/30 15:19:04 oakvar               tagsampler finished in 0.000s\n",
      "2023/01/30 15:19:04 oakvar               vcfinfo finished in 0.000s\n",
      "2023/01/30 15:19:04 oakvar               postaggregator step finished in 0.000s\n",
      "2023/01/30 15:19:04 oakvar               starting reporter step...\n",
      "2023/01/30 15:19:04 oakvar               starting vcfreporter...\n",
      "2023/01/30 15:19:06 oakvar               vcfreporter finished in 0.000s\n",
      "2023/01/30 15:19:06 oakvar               report created: /mnt/d/Git/oakvar/extras/notebooks/exampleinput.vcf \n",
      "2023/01/30 15:19:06 oakvar               reporter step finished in 0.000s\n",
      "2023/01/30 15:19:06 oakvar               finished: Mon Jan 30 15:19:06 2023\n",
      "2023/01/30 15:19:06 oakvar               finished normally. Runtime: 11.005s\n",
      "2023/01/30 15:19:06 oakvar               removing /mnt/d/Git/oakvar/extras/notebooks/exampleinput.clinvar.var\n",
      "2023/01/30 15:19:06 oakvar               removing /mnt/d/Git/oakvar/extras/notebooks/exampleinput.crg\n",
      "2023/01/30 15:19:06 oakvar               removing /mnt/d/Git/oakvar/extras/notebooks/exampleinput.crm\n",
      "2023/01/30 15:19:06 oakvar               removing /mnt/d/Git/oakvar/extras/notebooks/exampleinput.crs\n",
      "2023/01/30 15:19:06 oakvar               removing /mnt/d/Git/oakvar/extras/notebooks/exampleinput.crv\n",
      "2023/01/30 15:19:06 oakvar               removing /mnt/d/Git/oakvar/extras/notebooks/exampleinput.crx\n",
      "2023/01/30 15:19:06 oakvar               removing /mnt/d/Git/oakvar/extras/notebooks/exampleinput.err\n",
      "2023/01/30 15:19:06 oakvar               removing /mnt/d/Git/oakvar/extras/notebooks/exampleinput.original_input.var\n"
     ]
    }
   ],
   "source": [
    "!ov run exampleinput -a clinvar -t vcf"
   ]
  },
  {
   "cell_type": "code",
   "execution_count": 3,
   "id": "df403668-a5c0-4c75-910a-54d319ea3106",
   "metadata": {},
   "outputs": [
    {
     "name": "stdout",
     "output_type": "stream",
     "text": [
      "Generating tsv report...\n",
      "report created: exampleinput.variant.tsv\n"
     ]
    }
   ],
   "source": [
    "!ov report exampleinput.sqlite -t tsv"
   ]
  },
  {
   "cell_type": "code",
   "execution_count": null,
   "id": "b77a42cf-1ecc-4e5e-a621-e6be9ad61d81",
   "metadata": {},
   "outputs": [],
   "source": []
  }
 ],
 "metadata": {
  "kernelspec": {
   "display_name": "Python 3 (ipykernel)",
   "language": "python",
   "name": "python3"
  },
  "language_info": {
   "codemirror_mode": {
    "name": "ipython",
    "version": 3
   },
   "file_extension": ".py",
   "mimetype": "text/x-python",
   "name": "python",
   "nbconvert_exporter": "python",
   "pygments_lexer": "ipython3",
   "version": "3.8.13"
  }
 },
 "nbformat": 4,
 "nbformat_minor": 5
}
